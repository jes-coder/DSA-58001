{
  "nbformat": 4,
  "nbformat_minor": 0,
  "metadata": {
    "colab": {
      "provenance": [],
      "authorship_tag": "ABX9TyPHo6OxVNUdwbqEqHN+zAYs",
      "include_colab_link": true
    },
    "kernelspec": {
      "name": "python3",
      "display_name": "Python 3"
    },
    "language_info": {
      "name": "python"
    }
  },
  "cells": [
    {
      "cell_type": "markdown",
      "metadata": {
        "id": "view-in-github",
        "colab_type": "text"
      },
      "source": [
        "<a href=\"https://colab.research.google.com/github/jes-coder/DSA-58001/blob/main/Python_Array_Module.ipynb\" target=\"_parent\"><img src=\"https://colab.research.google.com/assets/colab-badge.svg\" alt=\"Open In Colab\"/></a>"
      ]
    },
    {
      "cell_type": "markdown",
      "source": [
        "Example 1"
      ],
      "metadata": {
        "id": "5Wgv2U9MDu3R"
      }
    },
    {
      "cell_type": "code",
      "source": [
        "import array\n",
        "array.typecodes   #to use all the typecodes \n",
        "\n",
        "a = array.array('i',[1,2,3,4,5,6,7,8,9,10]) #initialize the elements of a\n",
        "b = array.array('f',[1.5,2.5,3.5,4.5,5.5,6.5,7.5,8.5,9.5,10.5])    #initialize the elements of b\n",
        "\n",
        "print(a.typecode)\n",
        "print(b.typecode)\n"
      ],
      "metadata": {
        "colab": {
          "base_uri": "https://localhost:8080/"
        },
        "id": "juHJxcMPDw01",
        "outputId": "eb95ac0d-8c51-4736-de2e-ae4bf12d49a6"
      },
      "execution_count": 21,
      "outputs": [
        {
          "output_type": "stream",
          "name": "stdout",
          "text": [
            "i\n",
            "f\n"
          ]
        }
      ]
    },
    {
      "cell_type": "markdown",
      "source": [
        "Example 2: Create an array of elements of float/decimal number"
      ],
      "metadata": {
        "id": "EtFkpgEEFcYZ"
      }
    },
    {
      "cell_type": "code",
      "source": [
        "a = arr .array('f' ,[1, 2, 3, 4, 5, 6, 7, 8, 9, 10])\n",
        "print(a)"
      ],
      "metadata": {
        "id": "t1yxS3EwFiNy"
      },
      "execution_count": null,
      "outputs": []
    },
    {
      "cell_type": "markdown",
      "source": [
        "Insert an element: 11 to the first index of the array a"
      ],
      "metadata": {
        "id": "5ftc6T4TI1xM"
      }
    },
    {
      "cell_type": "code",
      "source": [
        "a.insert(0, 11)\n",
        "print(a)\n",
        "b.insert(-1, 11)\n",
        "print(b)\n",
        "\n",
        "b[-1]=12\n",
        "print(b)"
      ],
      "metadata": {
        "colab": {
          "base_uri": "https://localhost:8080/"
        },
        "id": "8wflv6fNI6Ht",
        "outputId": "a3d8ca17-3076-4f95-c21d-d13c915404b5"
      },
      "execution_count": 14,
      "outputs": [
        {
          "output_type": "stream",
          "name": "stdout",
          "text": [
            "array('i', [11, 1, 2, 3, 4, 5, 6, 7, 8, 9, 10])\n",
            "array('f', [1.5, 2.5, 3.5, 4.5, 5.5, 6.5, 7.5, 8.5, 9.5, 12.0])\n"
          ]
        }
      ]
    },
    {
      "cell_type": "code",
      "source": [
        "a = arr .array('f',[1,2,3,4,5,6,7,8,9,10])\n",
        "print(a)\n",
        "a.insert(10,-1) #out of range\n",
        "print(a)"
      ],
      "metadata": {
        "id": "shR1s4ZUL_Vz"
      },
      "execution_count": null,
      "outputs": []
    },
    {
      "cell_type": "markdown",
      "source": [
        "#Linked Lists"
      ],
      "metadata": {
        "id": "Cyfk5PITOzGW"
      }
    },
    {
      "cell_type": "code",
      "source": [
        "#Initialize the node class\n",
        "class Node:\n",
        "  def __init__(self,data): \n",
        "    self.data = data   #initialize the object node\n",
        "    self.next = None    #initialize as null\n",
        "\n",
        "class LinkedList:\n",
        "  def __init__(self):\n",
        "    self.head = None  #initialize the head of the node\n",
        "  def printList(self):\n",
        "    temp = self.head\n",
        "    while(temp):\n",
        "      print(temp.data)\n",
        "      temp = temp.next\n",
        " \n",
        "#empty list\n",
        "if __name__=='_main_':\n",
        "  llist = LinkedList()\n",
        "  llist.head = Node(1)\n",
        "  second = Node(2)\n",
        "  third = Node(3)\n",
        "  \n",
        "llist.head.next = second\n",
        "second.next = third\n",
        "\n",
        "llist.printlist()"
      ],
      "metadata": {
        "id": "0L4k7IMQVX-H"
      },
      "execution_count": null,
      "outputs": []
    }
  ]
}