{
  "nbformat": 4,
  "nbformat_minor": 0,
  "metadata": {
    "colab": {
      "provenance": [],
      "authorship_tag": "ABX9TyPIPy3NffY5jlavugfcsjbS",
      "include_colab_link": true
    },
    "kernelspec": {
      "name": "python3",
      "display_name": "Python 3"
    },
    "language_info": {
      "name": "python"
    }
  },
  "cells": [
    {
      "cell_type": "markdown",
      "metadata": {
        "id": "view-in-github",
        "colab_type": "text"
      },
      "source": [
        "<a href=\"https://colab.research.google.com/github/jes-coder/DSA-58001/blob/main/LongQuiz1.ipynb\" target=\"_parent\"><img src=\"https://colab.research.google.com/assets/colab-badge.svg\" alt=\"Open In Colab\"/></a>"
      ]
    },
    {
      "cell_type": "code",
      "source": [
        "def reverse(s):\n",
        "\tstr = \"\"\n",
        "\tfor i in s:\n",
        "\t\tstr = i + str\n",
        "\treturn str\n",
        "\n",
        "s =\"Jesrael Sy\"\n",
        "\n",
        "print(\"Full Name : \", end=\"\")\n",
        "print(s)\n",
        "\n",
        "print(\"The reversed of your full name is : \", end=\"\")\n",
        "print(reverse(s))\n"
      ],
      "metadata": {
        "colab": {
          "base_uri": "https://localhost:8080/"
        },
        "id": "KMykubSOaH2P",
        "outputId": "2b3c3829-b752-424c-e2fc-02ce1da805d9"
      },
      "execution_count": 17,
      "outputs": [
        {
          "output_type": "stream",
          "name": "stdout",
          "text": [
            "Full Name : Jesrael Sy\n",
            "The reversed of your full name is : yS learseJ\n"
          ]
        }
      ]
    }
  ]
}