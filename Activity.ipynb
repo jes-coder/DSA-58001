{
  "nbformat": 4,
  "nbformat_minor": 0,
  "metadata": {
    "colab": {
      "provenance": [],
      "authorship_tag": "ABX9TyN/vNP0KVNRpRsfitfxxHq2",
      "include_colab_link": true
    },
    "kernelspec": {
      "name": "python3",
      "display_name": "Python 3"
    },
    "language_info": {
      "name": "python"
    }
  },
  "cells": [
    {
      "cell_type": "markdown",
      "metadata": {
        "id": "view-in-github",
        "colab_type": "text"
      },
      "source": [
        "<a href=\"https://colab.research.google.com/github/jes-coder/DSA-58001/blob/main/Activity.ipynb\" target=\"_parent\"><img src=\"https://colab.research.google.com/assets/colab-badge.svg\" alt=\"Open In Colab\"/></a>"
      ]
    },
    {
      "cell_type": "markdown",
      "source": [
        "Write a Python program to create an array of 10 integers and display the array items. Access individual elements through indexes and compute for the sum."
      ],
      "metadata": {
        "id": "R7VDgxhdWU_F"
      }
    },
    {
      "cell_type": "code",
      "execution_count": 31,
      "metadata": {
        "colab": {
          "base_uri": "https://localhost:8080/"
        },
        "id": "zhvEQalgQ7nd",
        "outputId": "0b5d1c37-0966-4d7f-e63e-567bc23bafd1"
      },
      "outputs": [
        {
          "output_type": "stream",
          "name": "stdout",
          "text": [
            "1\n",
            "2\n",
            "3\n",
            "4\n",
            "5\n",
            "6\n",
            "7\n",
            "8\n",
            "9\n",
            "10\n",
            "Access three items individually\n",
            "1\n",
            "3\n",
            "5\n",
            "The sum of three selected integers is\n",
            "9\n"
          ]
        }
      ],
      "source": [
        "#Display the array items\n",
        "#access individual elements through indexes\n",
        "#compute the sum\n",
        "from array import *\n",
        "array_num = array('i', [1,2,3,4,5,6,7,8,9,10])\n",
        "for i in array_num:\n",
        "    print(i)\n",
        "#//\n",
        "print(\"Access three items individually\")\n",
        "print(array_num[0])\n",
        "print(array_num[2])\n",
        "print(array_num[4])\n",
        "#//\n",
        "print(\"The sum of three selected integers is\")\n",
        "print(array_num[0] + array_num[2] + array_num[4])"
      ]
    },
    {
      "cell_type": "markdown",
      "source": [
        "Write a Python program to append a new item to the end of the array. Original array: numbers = [1, 2, 3, 4, 5, 6, 7, 8, 9, 10]"
      ],
      "metadata": {
        "id": "kYoaIcoIWcIY"
      }
    },
    {
      "cell_type": "code",
      "source": [
        "#Append new item to the end of the array\n",
        "from array import *\n",
        "array_num = array('i', [1, 2, 3, 4, 5, 6, 7, 8, 9, 10])\n",
        "\n",
        "print(\"Original array: \"+str(array_num))\n",
        "#//\n",
        "print(\"Append 11 to 15 at the end of the array:\")\n",
        "array_num.append(11)\n",
        "array_num.append(12)\n",
        "array_num.append(13)\n",
        "array_num.append(14)\n",
        "array_num.append(15)\n",
        "#//\n",
        "print(\"New array: \"+str(array_num))\n"
      ],
      "metadata": {
        "colab": {
          "base_uri": "https://localhost:8080/"
        },
        "id": "xy0VE15ZWeLd",
        "outputId": "4f58f400-6356-446f-ff42-d012c9763fa4"
      },
      "execution_count": 32,
      "outputs": [
        {
          "output_type": "stream",
          "name": "stdout",
          "text": [
            "Original array: array('i', [1, 2, 3, 4, 5, 6, 7, 8, 9, 10])\n",
            "Append 11 to 15 at the end of the array:\n",
            "New array: array('i', [1, 2, 3, 4, 5, 6, 7, 8, 9, 10, 11, 12, 13, 14, 15])\n"
          ]
        }
      ]
    },
    {
      "cell_type": "markdown",
      "source": [
        "Write a Python program to insert a new item before the second element in an existing array. Original array: numbers = [1, 2, 3, 4, 5, 6, 7, 8, 9, 10]"
      ],
      "metadata": {
        "id": "T0G17ajWYLMc"
      }
    },
    {
      "cell_type": "code",
      "source": [
        "#Insert new item before the second element in an existing array\n",
        "from array import *\n",
        "array_num = array('i', [1, 2, 3, 4, 5, 6, 7, 8, 9, 10])\n",
        "#//\n",
        "print(\"Original array: \"+str(array_num))\n",
        "#//\n",
        "print(\"Insert new value 10 before 2:\")\n",
        "array_num.insert(1, 10)\n",
        "#//\n",
        "print(\"New array: \"+str(array_num))\n"
      ],
      "metadata": {
        "colab": {
          "base_uri": "https://localhost:8080/"
        },
        "id": "ioBmRw8HYNTf",
        "outputId": "f500307b-7c46-46fc-e297-481aa2129f30"
      },
      "execution_count": 36,
      "outputs": [
        {
          "output_type": "stream",
          "name": "stdout",
          "text": [
            "Original array: array('i', [1, 2, 3, 4, 5, 6, 7, 8, 9, 10])\n",
            "Insert new value 10 before 2:\n",
            "New array: array('i', [1, 10, 2, 3, 4, 5, 6, 7, 8, 9, 10])\n"
          ]
        }
      ]
    },
    {
      "cell_type": "markdown",
      "source": [
        "Write a Python program to reverse the order of the items in the array.Original array: numbers = [5, 4, 3, 2, 1]"
      ],
      "metadata": {
        "id": "5IGBpE1JaQUQ"
      }
    },
    {
      "cell_type": "code",
      "source": [
        "#Reverse the order of the items\n",
        "\n",
        "arr = [5, 4, 3, 2, 1]\n",
        "print(\"Original Array Numbers are: \",arr)\n",
        "#//\n",
        "arr.reverse() #reversing using reverse()\n",
        "print(\"After reversing Array: \",arr)\n"
      ],
      "metadata": {
        "colab": {
          "base_uri": "https://localhost:8080/"
        },
        "id": "4Q9pBcx4aWVj",
        "outputId": "dd4c5e57-3cd4-4b22-ac10-43689b526d0c"
      },
      "execution_count": 37,
      "outputs": [
        {
          "output_type": "stream",
          "name": "stdout",
          "text": [
            "Original Array Numbers are:  [5, 4, 3, 2, 1]\n",
            "After reversing Array:  [1, 2, 3, 4, 5]\n"
          ]
        }
      ]
    },
    {
      "cell_type": "markdown",
      "source": [
        "Write a Python program to get the length of the array. Original array: numbers = [5, 4, 3, 2, 1]"
      ],
      "metadata": {
        "id": "WRjbjo5Mbqt1"
      }
    },
    {
      "cell_type": "code",
      "source": [
        "#Leng of the Array\n",
        "import array as A\n",
        "arr = A.array('i',[5, 4, 3, 2, 1])\n",
        "#//\n",
        "print(\"Original Array:\",arr)\n",
        "#//\n",
        "print(\"Length of Array:\",len(arr))"
      ],
      "metadata": {
        "colab": {
          "base_uri": "https://localhost:8080/"
        },
        "id": "_KvFRrsebshV",
        "outputId": "d9d46b88-87b2-4a0d-dc0b-73b817326ffe"
      },
      "execution_count": 38,
      "outputs": [
        {
          "output_type": "stream",
          "name": "stdout",
          "text": [
            "Original Array: array('i', [5, 4, 3, 2, 1])\n",
            "Length of Array: 5\n"
          ]
        }
      ]
    }
  ]
}