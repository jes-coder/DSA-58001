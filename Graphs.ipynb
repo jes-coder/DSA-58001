{
  "nbformat": 4,
  "nbformat_minor": 0,
  "metadata": {
    "colab": {
      "provenance": [],
      "authorship_tag": "ABX9TyP6a57QOvLtm+tOc8w8f07y",
      "include_colab_link": true
    },
    "kernelspec": {
      "name": "python3",
      "display_name": "Python 3"
    },
    "language_info": {
      "name": "python"
    }
  },
  "cells": [
    {
      "cell_type": "markdown",
      "metadata": {
        "id": "view-in-github",
        "colab_type": "text"
      },
      "source": [
        "<a href=\"https://colab.research.google.com/github/jes-coder/DSA-58001/blob/main/Graphs.ipynb\" target=\"_parent\"><img src=\"https://colab.research.google.com/assets/colab-badge.svg\" alt=\"Open In Colab\"/></a>"
      ]
    },
    {
      "cell_type": "code",
      "source": [
        "#Data elements using Dictionaries to implement Graphs\n",
        "graph = {\n",
        "    'a' : ['b','c'],\n",
        "    'b' : ['a','d'],\n",
        "    'c' : ['a','d'],\n",
        "    'd' : ['b','c','e'],\n",
        "    'e' : ['e'],\n",
        "}\n",
        "print(graph)"
      ],
      "metadata": {
        "colab": {
          "base_uri": "https://localhost:8080/"
        },
        "id": "YmDySOalaWzE",
        "outputId": "6266a3df-82ec-4f84-de60-ca1b6639c31d"
      },
      "execution_count": 4,
      "outputs": [
        {
          "output_type": "stream",
          "name": "stdout",
          "text": [
            "{'a': ['b', 'c'], '/nb': ['a', 'd'], 'c': ['a', 'd'], 'd': ['b', 'c', 'e'], 'e': ['e']}\n"
          ]
        }
      ]
    },
    {
      "cell_type": "code",
      "source": [
        "#application 1\n",
        "#G21\n",
        "graph = {\n",
        "    '1' : ['4','5','3'],\n",
        "    '2' : ['4','5'],\n",
        "    '3' : ['1'],\n",
        "    '4' : ['1','2','5'],\n",
        "    '5' : ['1','2','4'],\n",
        "}\n",
        "print(graph)"
      ],
      "metadata": {
        "colab": {
          "base_uri": "https://localhost:8080/"
        },
        "id": "3O0ALQq3dD_O",
        "outputId": "8720bf76-89c5-40f5-eb2f-6e1eed2ed11f"
      },
      "execution_count": 8,
      "outputs": [
        {
          "output_type": "stream",
          "name": "stdout",
          "text": [
            "{'1': ['4', '5', '3'], '2': ['4', '5'], '3': ['1'], '4': ['1', '2', '5'], '5': ['1', '2', '4']}\n"
          ]
        }
      ]
    },
    {
      "cell_type": "code",
      "source": [
        "#application\n",
        "#G19\n",
        "#Testing\n",
        "graph = {\n",
        "    '1' : ['2','3','4','5'],\n",
        "    '2' : ['1','3','4','5'],\n",
        "    '3' : ['1','2','4','5'],\n",
        "    '4' : ['1','2','3','5'],\n",
        "    '5' : ['1','2','3','4'],\n",
        "}\n",
        "print(graph)"
      ],
      "metadata": {
        "colab": {
          "base_uri": "https://localhost:8080/"
        },
        "id": "D77FfgWrlAPW",
        "outputId": "962b8a71-dc8a-4da1-b25b-e3c319846d09"
      },
      "execution_count": 9,
      "outputs": [
        {
          "output_type": "stream",
          "name": "stdout",
          "text": [
            "{'1': ['2', '3', '4', '5'], '2': ['1', '3', '4', '5'], '3': ['1', '2', '4', '5'], '4': ['1', '2', '3', '5'], '5': ['1', '2', '3', '4']}\n"
          ]
        }
      ]
    }
  ]
}