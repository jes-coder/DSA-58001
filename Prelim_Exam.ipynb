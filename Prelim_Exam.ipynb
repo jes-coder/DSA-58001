{
  "nbformat": 4,
  "nbformat_minor": 0,
  "metadata": {
    "colab": {
      "provenance": [],
      "authorship_tag": "ABX9TyP3MB61MLgvClxLXSgE6T5z",
      "include_colab_link": true
    },
    "kernelspec": {
      "name": "python3",
      "display_name": "Python 3"
    },
    "language_info": {
      "name": "python"
    }
  },
  "cells": [
    {
      "cell_type": "markdown",
      "metadata": {
        "id": "view-in-github",
        "colab_type": "text"
      },
      "source": [
        "<a href=\"https://colab.research.google.com/github/jes-coder/DSA-58001/blob/main/Prelim_Exam.ipynb\" target=\"_parent\"><img src=\"https://colab.research.google.com/assets/colab-badge.svg\" alt=\"Open In Colab\"/></a>"
      ]
    },
    {
      "cell_type": "code",
      "execution_count": 8,
      "metadata": {
        "colab": {
          "base_uri": "https://localhost:8080/"
        },
        "id": "a-zdEmTgwNri",
        "outputId": "80735bdf-9673-4f80-c782-855152ef1d14"
      },
      "outputs": [
        {
          "output_type": "stream",
          "name": "stdout",
          "text": [
            "Composite integers less tahn 10 but greater than 1 : [4, 6, 8, 9]\n",
            "Number of Composite Integers : 4\n"
          ]
        }
      ],
      "source": [
        "#Python program that appends all composite integers less than 10 but greater than 1 and counts the number of composite\n",
        "\n",
        "Comprint = [4,6,8,9]\n",
        "print(\"Composite integers less tahn 10 but greater than 1 :\",Comprint)\n",
        "print(\"Number of Composite Integers :\",len(Comprint))"
      ]
    }
  ]
}