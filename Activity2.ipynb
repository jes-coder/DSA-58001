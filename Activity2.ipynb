{
  "nbformat": 4,
  "nbformat_minor": 0,
  "metadata": {
    "colab": {
      "provenance": [],
      "authorship_tag": "ABX9TyO0IxallUbIA0TKovfebhi9",
      "include_colab_link": true
    },
    "kernelspec": {
      "name": "python3",
      "display_name": "Python 3"
    },
    "language_info": {
      "name": "python"
    }
  },
  "cells": [
    {
      "cell_type": "markdown",
      "metadata": {
        "id": "view-in-github",
        "colab_type": "text"
      },
      "source": [
        "<a href=\"https://colab.research.google.com/github/jes-coder/DSA-58001/blob/main/Activity2.ipynb\" target=\"_parent\"><img src=\"https://colab.research.google.com/assets/colab-badge.svg\" alt=\"Open In Colab\"/></a>"
      ]
    },
    {
      "cell_type": "code",
      "execution_count": 22,
      "metadata": {
        "colab": {
          "base_uri": "https://localhost:8080/"
        },
        "id": "EninaVxsc1nf",
        "outputId": "c446a83b-874e-46eb-dc4a-f8a415b2e963"
      },
      "outputs": [
        {
          "output_type": "stream",
          "name": "stdout",
          "text": [
            "List of english vowels : ['A', 'E', 'I', 'O', 'U']\n"
          ]
        }
      ],
      "source": [
        "# initializing list\n",
        "list_vowel = [\"A\", \"E\", \"I\", \"O\", \"U\"]\n",
        "\n",
        "# printing list of english vowels\n",
        "print(\"List of english vowels : \" + str(list_vowel))\n",
        "\n",
        "res = []\n",
        "vow = \"aeiouAEIOU\"\n",
        "for sub in list_vowel:\n",
        "\tflag = False\n",
        "\t\n",
        "#checking for begin char\n",
        "\tfor ele in vow:\n",
        "\t\tif sub.startswith(ele):\n",
        "\t\t\tflag = True\n",
        "\t\t\tbreak\n",
        "\tif flag:\n",
        "\t\tres.append(sub)"
      ]
    },
    {
      "cell_type": "code",
      "source": [
        "# Printing list of alphabet and display the vowels\n",
        "\n",
        "import string   #importing string function\n",
        "\n",
        "# using string\n",
        "list_Alphabet = list(string.ascii_lowercase)\n",
        "\n",
        "# print lowercase english alphabet\n",
        "print('English Alphabet: ', list_Alphabet)\n",
        "\n",
        "# initializing list\n",
        "list_vowel = [\"a\", \"e\", \"i\", \"o\", \"u\"]\n",
        "\n",
        "# printing the list of vowels\n",
        "print(\"List of vowels : \" + str(list_vowel))\n",
        "\n",
        "res = []\n",
        "vow = \"aeiouAEIOU\"\n",
        "for sub in list_vowel:\n",
        "\tflag = False"
      ],
      "metadata": {
        "colab": {
          "base_uri": "https://localhost:8080/"
        },
        "id": "LmAf45CHlNkK",
        "outputId": "596c9df5-e0f8-4c52-cd65-8cab02fe7ac2"
      },
      "execution_count": 49,
      "outputs": [
        {
          "output_type": "stream",
          "name": "stdout",
          "text": [
            "English Alphabet:  ['a', 'b', 'c', 'd', 'e', 'f', 'g', 'h', 'i', 'j', 'k', 'l', 'm', 'n', 'o', 'p', 'q', 'r', 's', 't', 'u', 'v', 'w', 'x', 'y', 'z']\n",
            "List of vowels : ['a', 'e', 'i', 'o', 'u']\n"
          ]
        }
      ]
    }
  ]
}