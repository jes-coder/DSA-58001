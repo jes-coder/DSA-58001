{
  "nbformat": 4,
  "nbformat_minor": 0,
  "metadata": {
    "colab": {
      "name": "Area of a circle.ipynb",
      "provenance": [],
      "authorship_tag": "ABX9TyOqordgl4evuu21v3crVKhM",
      "include_colab_link": true
    },
    "kernelspec": {
      "name": "python3",
      "display_name": "Python 3"
    },
    "language_info": {
      "name": "python"
    }
  },
  "cells": [
    {
      "cell_type": "markdown",
      "metadata": {
        "id": "view-in-github",
        "colab_type": "text"
      },
      "source": [
        "<a href=\"https://colab.research.google.com/github/jes-coder/DSA-58001/blob/main/Area_of_a_circle.ipynb\" target=\"_parent\"><img src=\"https://colab.research.google.com/assets/colab-badge.svg\" alt=\"Open In Colab\"/></a>"
      ]
    },
    {
      "cell_type": "code",
      "execution_count": 2,
      "metadata": {
        "colab": {
          "base_uri": "https://localhost:8080/"
        },
        "id": "th9bmo4tDtUE",
        "outputId": "c2a112df-fe9f-44f8-f21e-f217750a54ae"
      },
      "outputs": [
        {
          "output_type": "stream",
          "name": "stdout",
          "text": [
            "Enter the radius of a circle: 5\n",
            "area of a circle = 78.50\n"
          ]
        }
      ],
      "source": [
        "PI = 3.14\n",
        "r = float(input(\"Enter the radius of a circle: \"))\n",
        "area = PI * r * r\n",
        "print(\"area of a circle = %.2f\" %area)"
      ]
    },
    {
      "cell_type": "code",
      "source": [
        "class Circle:\n",
        "  def _init_(self, r):\n",
        "    self.radius = r\n",
        "  def area(self):\n",
        "    return 3.14 * (self.radius ** 2)\n",
        "  def perimeter(self):\n",
        "    return 2 * 3.14 * self.radius\n",
        "    \n",
        "obj = Circle(3)\n",
        "print(\"Area of circle: \" ,obj.area())\n",
        "print(\"Perimeter of circle: \" ,obj.perimeter())"
      ],
      "metadata": {
        "id": "hdvOau7qFtMe"
      },
      "execution_count": null,
      "outputs": []
    }
  ]
}