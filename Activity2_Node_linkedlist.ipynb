{
  "nbformat": 4,
  "nbformat_minor": 0,
  "metadata": {
    "colab": {
      "provenance": [],
      "authorship_tag": "ABX9TyMXfTy831pnYfCTB239mdAw",
      "include_colab_link": true
    },
    "kernelspec": {
      "name": "python3",
      "display_name": "Python 3"
    },
    "language_info": {
      "name": "python"
    }
  },
  "cells": [
    {
      "cell_type": "markdown",
      "metadata": {
        "id": "view-in-github",
        "colab_type": "text"
      },
      "source": [
        "<a href=\"https://colab.research.google.com/github/jes-coder/DSA-58001/blob/main/Activity2_Node_linkedlist.ipynb\" target=\"_parent\"><img src=\"https://colab.research.google.com/assets/colab-badge.svg\" alt=\"Open In Colab\"/></a>"
      ]
    },
    {
      "cell_type": "code",
      "execution_count": 15,
      "metadata": {
        "colab": {
          "base_uri": "https://localhost:8080/"
        },
        "id": "JGcbvqWbIKK_",
        "outputId": "02b99721-d864-49c3-d8fd-82f7186f3402"
      },
      "outputs": [
        {
          "output_type": "stream",
          "name": "stdout",
          "text": [
            "a\n",
            "e\n",
            "i\n",
            "o\n",
            "u\n",
            "The head list of the data is: a\n",
            "The tail list of the data is: u\n"
          ]
        }
      ],
      "source": [
        "#codes that create node object\n",
        "class Node:\n",
        "  def __init__(self,data):\n",
        "    self.data = data\n",
        "    self.next = None   #initialize empty node or null\n",
        "\n",
        "#function to create the head of the list\n",
        "class LinkedList:\n",
        "  def __init__(self):\n",
        "    self.head = None   #nitialize the head with a null value\n",
        "\n",
        "  def printList(self):\n",
        "    temp = self.head\n",
        "    while(temp):\n",
        "      print(temp.data)\n",
        "      temp = temp.next\n",
        "\n",
        "llist = LinkedList()\n",
        "llist.head = Node(\"a\")\n",
        "second = Node(\"e\")\n",
        "third = Node(\"i\")\n",
        "fourth = Node(\"o\")\n",
        "fifth = Node(\"u\")\n",
        "\n",
        "llist.head.next = second\n",
        "second.next = third\n",
        "third.next = fourth\n",
        "fourth.next = fifth\n",
        "\n",
        "llist.printList()\n",
        "print(\"The head list of the data is: \" + str(llist.head.data))\n",
        "print(\"The tail list of the data is: \" + str(fifth.data))"
      ]
    },
    {
      "cell_type": "code",
      "source": [
        "llist.printList() #display all the elements from the list\n",
        "print(\"The head of the list is\",llist.head.data) #display the head data\n",
        "print(\"The head of the list is\",fifth.data)  #display the tail data\n",
        "print(\"The head of the list is\",third.data)  #display the middle data\n",
        "print(\"The head of the list is\",second.data)  #display the second data\n",
        "print(\"The head of the list is\",fourth.data)  #display the second to the last data"
      ],
      "metadata": {
        "id": "UJ43cBl5RW0t"
      },
      "execution_count": null,
      "outputs": []
    }
  ]
}