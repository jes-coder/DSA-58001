{
  "nbformat": 4,
  "nbformat_minor": 0,
  "metadata": {
    "colab": {
      "name": "Practical Lab Exam.ipynb",
      "provenance": [],
      "authorship_tag": "ABX9TyNoxfAY8+zZKilPwO7Ptdvr",
      "include_colab_link": true
    },
    "kernelspec": {
      "name": "python3",
      "display_name": "Python 3"
    },
    "language_info": {
      "name": "python"
    }
  },
  "cells": [
    {
      "cell_type": "markdown",
      "metadata": {
        "id": "view-in-github",
        "colab_type": "text"
      },
      "source": [
        "<a href=\"https://colab.research.google.com/github/jes-coder/DSA-58001/blob/main/Practical_Lab_Exam.ipynb\" target=\"_parent\"><img src=\"https://colab.research.google.com/assets/colab-badge.svg\" alt=\"Open In Colab\"/></a>"
      ]
    },
    {
      "cell_type": "code",
      "execution_count": 16,
      "metadata": {
        "id": "93LeG1c1MD28",
        "colab": {
          "base_uri": "https://localhost:8080/"
        },
        "outputId": "7f356436-4092-4b3b-dcf1-0dd11386b3a1"
      },
      "outputs": [
        {
          "output_type": "stream",
          "name": "stdout",
          "text": [
            "Enter a score: 2\n",
            " The Sum of Odd Numbers from 1 to 2 = 0\n"
          ]
        }
      ],
      "source": [
        "# Start\n",
        "\n",
        "num = int(input(\"Enter a score: \"))\n",
        "Oddtotal = 0\n",
        "\n",
        "for number in range(1, num + 1):\n",
        "  if(num % 2 != 0):\n",
        "    print(\"{0}\".format(number))\n",
        "    Oddtotal = Oddtotal + num\n",
        "\n",
        "print(\" The Sum of Odd Numbers from 1 to {0} = {1}\".format(num, Oddtotal))"
      ]
    },
    {
      "cell_type": "code",
      "source": [
        "# Start\n",
        "\n",
        "num = int(input(\"Enter a score: \"))\n",
        "if (num % 2) == 0:\n",
        "  print(\"{0} is Even\".format(num))\n",
        "else:\n",
        "  print(\"{0} is Odd\".format(num))"
      ],
      "metadata": {
        "colab": {
          "base_uri": "https://localhost:8080/"
        },
        "id": "SM2jhZSfrl1g",
        "outputId": "a14e4d17-cd34-49cd-d88b-dade1e8c0cdc"
      },
      "execution_count": 14,
      "outputs": [
        {
          "output_type": "stream",
          "name": "stdout",
          "text": [
            "Enter a score: 26\n",
            "26 is Even\n"
          ]
        }
      ]
    },
    {
      "cell_type": "code",
      "source": [
        "# start\n",
        "\n",
        "sum = 0\n",
        "num = []\n",
        "num = int(input(\"Enter the Total Number you want to input: \"))\n",
        "for i in range(1, num + 1):\n",
        "  value = int(input(\"Input score: \"))\n",
        "\n",
        "for j in range(number):\n",
        "  if (num[j]%2==1):\n",
        "    sum = sum + num[j]\n",
        "    \n",
        "print(\"The sum of all Odd Numbersin the list is: \" ,sum)\n",
        "\n",
        "# END\n"
      ],
      "metadata": {
        "id": "3h-oeeufrCmV"
      },
      "execution_count": null,
      "outputs": []
    }
  ]
}