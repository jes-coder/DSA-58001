{
  "nbformat": 4,
  "nbformat_minor": 0,
  "metadata": {
    "colab": {
      "provenance": [],
      "authorship_tag": "ABX9TyPguPNm58I3wjRYrdD0+y76",
      "include_colab_link": true
    },
    "kernelspec": {
      "name": "python3",
      "display_name": "Python 3"
    },
    "language_info": {
      "name": "python"
    }
  },
  "cells": [
    {
      "cell_type": "markdown",
      "metadata": {
        "id": "view-in-github",
        "colab_type": "text"
      },
      "source": [
        "<a href=\"https://colab.research.google.com/github/jes-coder/DSA-58001/blob/main/stacks_array.ipynb\" target=\"_parent\"><img src=\"https://colab.research.google.com/assets/colab-badge.svg\" alt=\"Open In Colab\"/></a>"
      ]
    },
    {
      "cell_type": "code",
      "execution_count": 3,
      "metadata": {
        "colab": {
          "base_uri": "https://localhost:8080/"
        },
        "id": "ACiUDRF7WXSt",
        "outputId": "b068757c-cc74-4566-e6b1-6789a29dbb32"
      },
      "outputs": [
        {
          "output_type": "stream",
          "name": "stdout",
          "text": [
            "Initial Elements in the stack ['a', 'b', 'c']\n",
            "['a', 'b']\n"
          ]
        }
      ],
      "source": [
        "#python program to demonstrate stack implementation using array\n",
        "stack = []\n",
        "#insert/append elements in the stack\n",
        "\n",
        "stack.append('a')\n",
        "stack.append('b')\n",
        "stack.append('c')\n",
        "print(\"Initial Elements in the stack\",stack)\n",
        "\n",
        "#removing elements/pop function to pop elemetns from the stack\n",
        "stack.pop()\n",
        "#print(stack.pop())\n",
        "print(stack)"
      ]
    },
    {
      "cell_type": "code",
      "source": [
        "#python program to create a sngly Linke-List\n",
        "\n",
        "class Node:\n",
        "  \n",
        "  def __init__(self,data):\n",
        "    self.data = data\n",
        "    self.next = None\n",
        "\n",
        "class LinkedList:\n",
        "\n",
        "  def __init__(self):\n",
        "    self.head = None\n",
        "    \n",
        "  def printList(self):\n",
        "\n",
        "    temp = self.head\n",
        "    while(temp):\n",
        "      print(temp.data)\n",
        "      temp = temp.next\n",
        "\n",
        "  def isempty(self):\n",
        "    if self.printList == None:\n",
        "      return True\n",
        "    else:\n",
        "      return False\n",
        "\n",
        "  def pop(self):\n",
        "    if self.isempty():\n",
        "      print(\"the stack is empty\")\n",
        "    else:\n",
        "      popped_Node = third\n",
        "      return popped_Node.data\n",
        "\n",
        "\n",
        "#code to start the execution\n",
        "llist = LinkedList()\n",
        "llist.head = Node(1)\n",
        "second = Node(2)\n",
        "third = Node(3)\n",
        "\n",
        "llist.head.next = second\n",
        "second.next = third\n",
        "\n",
        "llist.printList()\n",
        "print(\"the last element in the stack is \",llist.pop())"
      ],
      "metadata": {
        "colab": {
          "base_uri": "https://localhost:8080/"
        },
        "id": "lAWW8VFuYbWB",
        "outputId": "1b5e165d-1111-44dc-893c-2fca7c4e1363"
      },
      "execution_count": 8,
      "outputs": [
        {
          "output_type": "stream",
          "name": "stdout",
          "text": [
            "1\n",
            "2\n",
            "3\n",
            "the last element in the stack is  3\n"
          ]
        }
      ]
    },
    {
      "cell_type": "code",
      "source": [
        "class Node:\n",
        "  def __init__ (self,data)"
      ],
      "metadata": {
        "id": "EyeEyeFbel8z"
      },
      "execution_count": null,
      "outputs": []
    }
  ]
}